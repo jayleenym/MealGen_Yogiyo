{
 "cells": [
  {
   "cell_type": "code",
   "execution_count": 1,
   "metadata": {},
   "outputs": [],
   "source": [
    "from selenium import webdriver\n",
    "from selenium.webdriver.common.by import By\n",
    "from selenium.webdriver.support.ui import WebDriverWait\n",
    "from selenium.webdriver.support import expected_conditions as EC\n",
    "from selenium.webdriver.common.action_chains import ActionChains\n",
    "\n",
    "from bs4 import BeautifulSoup\n",
    "from requests.compat import urlparse, urljoin\n",
    "from requests.exceptions import HTTPError\n",
    "from requests import Session\n",
    "import requests\n",
    "\n",
    "import pandas as pd\n",
    "import time\n",
    "import datetime\n",
    "from tqdm import tqdm\n",
    "import re\n",
    "import sys\n",
    "import os\n",
    "sys.path.append(os.path.dirname(os.path.abspath(os.getcwd())))\n",
    "\n",
    "# db management libraries\n",
    "import pymysql\n",
    "from controller import MysqlController"
   ]
  },
  {
   "cell_type": "code",
   "execution_count": 2,
   "metadata": {},
   "outputs": [],
   "source": [
    "# 연결\n",
    "with open('../connection.txt', \"r\") as f:\n",
    "                connect_info = list(map(lambda x: x.strip(), f.read().split(\",\")))\n",
    "server = MysqlController(*connect_info)\n",
    "\n",
    "# 주소지 받아오기\n",
    "ADR = pd.read_sql('SELECT DISTINCT sigungu, dong FROM Address;', server.conn)"
   ]
  },
  {
   "cell_type": "code",
   "execution_count": null,
   "metadata": {},
   "outputs": [],
   "source": [
    "server.conn.close()"
   ]
  },
  {
   "cell_type": "markdown",
   "metadata": {},
   "source": [
    "# Selenium"
   ]
  },
  {
   "cell_type": "code",
   "execution_count": null,
   "metadata": {},
   "outputs": [],
   "source": [
    "# options = webdriver.ChromeOptions()\n",
    "# # options.add_argument(\"--headless\")\n",
    "# options.add_argument('--no-sandbox')\n",
    "# options.add_argument('--disable-dev-shm-usage')\n",
    "\n",
    "# # Path\n",
    "# chromedriver_path = '/Users/yejin/Downloads/chromedriver'\n",
    "# driver = webdriver.Chrome(executable_path = chromedriver_path, options = options)"
   ]
  },
  {
   "cell_type": "code",
   "execution_count": null,
   "metadata": {},
   "outputs": [],
   "source": [
    "# # selenium? 여기서? 굳이?\n",
    "# url = f'https://www.mangoplate.com/search/{ADR.sigungu.iloc[idx]}%20{ADR.dong.iloc[idx]}?page={p}'\n",
    "# driver.get(url)"
   ]
  },
  {
   "cell_type": "markdown",
   "metadata": {},
   "source": [
    "# Bs4"
   ]
  },
  {
   "cell_type": "code",
   "execution_count": 3,
   "metadata": {},
   "outputs": [],
   "source": [
    "def download(url, params={}, headers={}, method='GET', limit=3):\n",
    "    try:\n",
    "        session = Session()\n",
    "        resp = session.request(method, url,\n",
    "                               params=params if method.upper() == 'GET' else '',\n",
    "                               data=params if method.upper() == 'POST' else '',\n",
    "                               headers=headers)\n",
    "        resp.raise_for_status()\n",
    "    except HTTPError as e:\n",
    "        if limit > 0 and e.response.status_code >= 500:\n",
    "            print(limit)\n",
    "            time.sleep(60)  # Server Error이기 때문에 delay를 두고 실행하기 위해서 사용한다.\n",
    "            # 보통은 5분에 한 번꼴로 random하게 되도록 설정한다.\n",
    "            download(url, params, headers, method, limit - 1)\n",
    "        else:\n",
    "            print('[{}] '.format(e.response.status_code) + url)\n",
    "            print(e.response.reason)\n",
    "            print(e.response.headers)\n",
    "\n",
    "    return resp"
   ]
  },
  {
   "cell_type": "code",
   "execution_count": 5,
   "metadata": {},
   "outputs": [
    {
     "ename": "AttributeError",
     "evalue": "'NoneType' object has no attribute 'text'",
     "output_type": "error",
     "traceback": [
      "\u001b[0;31m---------------------------------------------------------------------------\u001b[0m",
      "\u001b[0;31mAttributeError\u001b[0m                            Traceback (most recent call last)",
      "\u001b[0;32m<ipython-input-5-f28a0a7b878d>\u001b[0m in \u001b[0;36m<module>\u001b[0;34m\u001b[0m\n\u001b[1;32m     28\u001b[0m                 \u001b[0;34m'cnt_review'\u001b[0m\u001b[0;34m:\u001b[0m \u001b[0mint\u001b[0m\u001b[0;34m(\u001b[0m\u001b[0mone_dom\u001b[0m\u001b[0;34m.\u001b[0m\u001b[0mselect_one\u001b[0m\u001b[0;34m(\u001b[0m\u001b[0;34m'span.cnt.review'\u001b[0m\u001b[0;34m)\u001b[0m\u001b[0;34m.\u001b[0m\u001b[0mtext\u001b[0m\u001b[0;34m.\u001b[0m\u001b[0mreplace\u001b[0m\u001b[0;34m(\u001b[0m\u001b[0;34m','\u001b[0m\u001b[0;34m,\u001b[0m \u001b[0;34m\"\"\u001b[0m\u001b[0;34m)\u001b[0m\u001b[0;34m)\u001b[0m\u001b[0;34m,\u001b[0m\u001b[0;34m\u001b[0m\u001b[0;34m\u001b[0m\u001b[0m\n\u001b[1;32m     29\u001b[0m                 \u001b[0;34m'cnt_favorite'\u001b[0m\u001b[0;34m:\u001b[0m \u001b[0mint\u001b[0m\u001b[0;34m(\u001b[0m\u001b[0mone_dom\u001b[0m\u001b[0;34m.\u001b[0m\u001b[0mselect_one\u001b[0m\u001b[0;34m(\u001b[0m\u001b[0;34m'span.cnt.favorite'\u001b[0m\u001b[0;34m)\u001b[0m\u001b[0;34m.\u001b[0m\u001b[0mtext\u001b[0m\u001b[0;34m.\u001b[0m\u001b[0mreplace\u001b[0m\u001b[0;34m(\u001b[0m\u001b[0;34m','\u001b[0m\u001b[0;34m,\u001b[0m \u001b[0;34m\"\"\u001b[0m\u001b[0;34m)\u001b[0m\u001b[0;34m)\u001b[0m\u001b[0;34m,\u001b[0m\u001b[0;34m\u001b[0m\u001b[0;34m\u001b[0m\u001b[0m\n\u001b[0;32m---> 30\u001b[0;31m                 \u001b[0;34m'category'\u001b[0m\u001b[0;34m:\u001b[0m \u001b[0mone_dom\u001b[0m\u001b[0;34m.\u001b[0m\u001b[0mselect_one\u001b[0m\u001b[0;34m(\u001b[0m\u001b[0;34m'table > tbody > tr:nth-of-type(3) > td > span'\u001b[0m\u001b[0;34m)\u001b[0m\u001b[0;34m.\u001b[0m\u001b[0mtext\u001b[0m\u001b[0;34m,\u001b[0m\u001b[0;34m\u001b[0m\u001b[0;34m\u001b[0m\u001b[0m\n\u001b[0m\u001b[1;32m     31\u001b[0m                 \u001b[0;34m'road_address'\u001b[0m\u001b[0;34m:\u001b[0m \u001b[0mone_dom\u001b[0m\u001b[0;34m.\u001b[0m\u001b[0mselect_one\u001b[0m\u001b[0;34m(\u001b[0m\u001b[0;34m'div.Restaurant__InfoItemLabel--RoadAddressText'\u001b[0m\u001b[0;34m)\u001b[0m\u001b[0;34m.\u001b[0m\u001b[0mtext\u001b[0m\u001b[0;34m,\u001b[0m\u001b[0;34m\u001b[0m\u001b[0;34m\u001b[0m\u001b[0m\n\u001b[1;32m     32\u001b[0m                 \u001b[0;34m'address'\u001b[0m\u001b[0;34m:\u001b[0m \u001b[0mone_dom\u001b[0m\u001b[0;34m.\u001b[0m\u001b[0mselect_one\u001b[0m\u001b[0;34m(\u001b[0m\u001b[0;34m'span.Restaurant__InfoAddress--Text'\u001b[0m\u001b[0;34m)\u001b[0m\u001b[0;34m.\u001b[0m\u001b[0mtext\u001b[0m\u001b[0;34m,\u001b[0m\u001b[0;34m\u001b[0m\u001b[0;34m\u001b[0m\u001b[0m\n",
      "\u001b[0;31mAttributeError\u001b[0m: 'NoneType' object has no attribute 'text'"
     ]
    }
   ],
   "source": [
    "headers = {\"user-agent\": \"Mozilla/5.0 (Windows NT 10.0; Win64; x64) AppleWebKit/537.36 (KHTML, like Gecko) Chrome/92.0.4515.131 Safari/537.36\"}\n",
    "\n",
    "for idx in range(len(ADR)):\n",
    "    sigungu = ADR.sigungu.iloc[idx]\n",
    "    dong = ADR.dong.iloc[idx]\n",
    "    for page in range(1, 10):\n",
    "        url = f'https://www.mangoplate.com/search/{sigungu} {dong}?page={page}'\n",
    "        resp = download(url, headers = headers)\n",
    "        dom = BeautifulSoup(resp.content, 'lxml')\n",
    "        fig = dom.select('figure.restaurant-item > figcaption')\n",
    "        if len(fig) == 0:\n",
    "            break\n",
    "\n",
    "        # 식당 한 개 정보\n",
    "        for i in range(len(fig)):\n",
    "            res = fig[i]\n",
    "            res_id = res.select_one('a')['href'].split('/')[2]\n",
    "            # 식당 한개 사이트 들어감\n",
    "            one_url = f'https://www.mangoplate.com/restaurants/{res_id}'\n",
    "            one_resp = download(one_url, headers = headers)\n",
    "            one_dom = BeautifulSoup(one_resp.content, 'lxml')\n",
    "\n",
    "            server.insert('mango_restaurants', {\n",
    "                'updated_at' : datetime.datetime.now().strftime('%Y-%m-%d %H:%M:%S'),\n",
    "                'mango_id' : res_id, # \"/restaurants/~~~\" link\n",
    "                'name': one_dom.select_one('h1.restaurant_name').text,\n",
    "                'cnt_hit': int(one_dom.select_one('span.cnt.hit').text.replace(',', \"\")),\n",
    "                'cnt_review': int(one_dom.select_one('span.cnt.review').text.replace(',', \"\")),\n",
    "                'cnt_favorite': int(one_dom.select_one('span.cnt.favorite').text.replace(',', \"\")),\n",
    "                'category': one_dom.select_one('table > tbody > tr:nth-of-type(3) > td > span').text, \n",
    "                'road_address': one_dom.select_one('div.Restaurant__InfoItemLabel--RoadAddressText').text,\n",
    "                'address': one_dom.select_one('span.Restaurant__InfoAddress--Text').text,\n",
    "                'phone': one_dom.select('div.Restaurant__InfoItemLabel')[1].text.strip(),\n",
    "                'price': one_dom.select_one('table > tbody > tr:nth-of-type(4) > td').text\n",
    "                })"
   ]
  },
  {
   "cell_type": "code",
   "execution_count": null,
   "metadata": {},
   "outputs": [],
   "source": []
  }
 ],
 "metadata": {
  "interpreter": {
   "hash": "40d3a090f54c6569ab1632332b64b2c03c39dcf918b08424e98f38b5ae0af88f"
  },
  "kernelspec": {
   "display_name": "Python 3.8.5 64-bit ('base': conda)",
   "language": "python",
   "name": "python3"
  },
  "language_info": {
   "codemirror_mode": {
    "name": "ipython",
    "version": 3
   },
   "file_extension": ".py",
   "mimetype": "text/x-python",
   "name": "python",
   "nbconvert_exporter": "python",
   "pygments_lexer": "ipython3",
   "version": "3.8.5"
  },
  "orig_nbformat": 4
 },
 "nbformat": 4,
 "nbformat_minor": 2
}
