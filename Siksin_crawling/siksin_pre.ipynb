{
 "cells": [
  {
   "cell_type": "code",
   "execution_count": 2,
   "metadata": {},
   "outputs": [],
   "source": [
    "from selenium import webdriver\n",
    "import selenium\n",
    "from selenium.webdriver.common.by import By\n",
    "from selenium.webdriver.support.ui import WebDriverWait\n",
    "from selenium.webdriver.support import expected_conditions as EC\n",
    "from selenium.webdriver.common.action_chains import ActionChains\n",
    "from selenium.common.exceptions import TimeoutException, ElementClickInterceptedException\n",
    "\n",
    "from bs4 import BeautifulSoup\n",
    "from requests.compat import urlparse, urljoin\n",
    "from requests.exceptions import HTTPError\n",
    "from requests import Session\n",
    "import requests\n",
    "import pickle\n",
    "\n",
    "import pandas as pd\n",
    "import time\n",
    "import datetime\n",
    "from tqdm import tqdm\n",
    "import re\n",
    "import sys\n",
    "import os\n",
    "# sys.path.append(os.path.dirname(os.path.abspath(os.path.dirname(__file__)))) # .py\n",
    "sys.path.append(os.path.dirname(os.path.abspath(os.getcwd()))) # jupyter\n",
    "\n",
    "# db management libraries\n",
    "import pymysql\n",
    "from controller import MysqlController"
   ]
  },
  {
   "cell_type": "code",
   "execution_count": 3,
   "metadata": {},
   "outputs": [],
   "source": [
    "options = webdriver.ChromeOptions()\n",
    "# options.add_argument(\"--headless\")\n",
    "options.add_argument('--no-sandbox')\n",
    "options.add_argument('--disable-dev-shm-usage')\n",
    "\n",
    "# Path\n",
    "chromedriver_path = '/Users/yejin/Downloads/chromedriver' # mac\n",
    "# chromedriver_path = 'C://Users//user//Desktop//chromedriver' # window\n",
    "\n",
    "# 연결\n",
    "with open('../connection.txt', \"r\") as f:\n",
    "                connect_info = list(map(lambda x: x.strip(), f.read().split(\",\")))\n",
    "server = MysqlController(*connect_info)"
   ]
  },
  {
   "cell_type": "code",
   "execution_count": 3,
   "metadata": {},
   "outputs": [],
   "source": [
    "# 주소지 받아오기\n",
<<<<<<< HEAD
    "server.curs.execute('SELECT DISTINCT CONCAT(sido, \" \",dong) as adr FROM Address;')\n",
=======
    "server.curs.execute('SELECT DISTINCT CONCAT(sigungu, \" \",dong) as adr FROM Address;')\n",
>>>>>>> 662adc44be49c1bb66c1277b14fcf39455533d12
    "server.ADR = [f[0].replace(\"세종특별자치시 세종특별자치시\", \"세종특별자치시\") \n",
    "            for f in server.curs.fetchall() \n",
    "            if (f[0] != None) and (f[0] != \"세종특별자치시 (알수없음)\")]"
   ]
  },
  {
   "cell_type": "code",
   "execution_count": 5,
   "metadata": {},
   "outputs": [],
   "source": [
    "driver = webdriver.Chrome(executable_path = chromedriver_path, options = options)"
   ]
  },
  {
   "cell_type": "code",
<<<<<<< HEAD
   "execution_count": 24,
=======
   "execution_count": 6,
>>>>>>> 662adc44be49c1bb66c1277b14fcf39455533d12
   "metadata": {},
   "outputs": [],
   "source": [
    "        # 위치로 페이지 들어가기\n",
    "url = f'https://www.siksinhot.com/search?keywords={server.ADR[10]}'\n",
    "driver.get(url)\n",
    "\n",
    "while True:\n",
    "            try:\n",
    "                # self.driver.execute_script(\"window.scrollTo(0, document.body.scrollHeight)\")\n",
    "                driver.find_element_by_css_selector('#schMove1 > div.listTy1 > a').click()\n",
    "                time.sleep(1)\n",
    "            except Exception as e:\n",
    "                # print(e)\n",
    "                break"
   ]
  },
  {
   "cell_type": "code",
<<<<<<< HEAD
   "execution_count": 6,
   "metadata": {},
   "outputs": [],
   "source": [
    "res = driver.find_elements_by_css_selector('#schMove1 > div.listTy1 > ul > li')"
   ]
  },
  {
   "cell_type": "code",
   "execution_count": 7,
   "metadata": {},
   "outputs": [
    {
     "data": {
      "text/plain": [
       "1013"
      ]
     },
     "execution_count": 7,
     "metadata": {},
     "output_type": "execute_result"
=======
   "execution_count": 27,
   "metadata": {},
   "outputs": [
    {
     "name": "stdout",
     "output_type": "stream",
     "text": [
      "1\n"
     ]
>>>>>>> 662adc44be49c1bb66c1277b14fcf39455533d12
    }
   ],
   "source": [
    "if '핫플레이스' not in driver.find_element_by_css_selector('div.area_recommand_tag').text:\n",
    "    print(0)\n",
    "else: print(1)"
   ]
  },
  {
   "cell_type": "code",
<<<<<<< HEAD
   "execution_count": 124,
   "metadata": {},
   "outputs": [],
   "source": [
    "driver.find_element_by_css_selector('div.siksin_review a.btn_sMore').click()"
   ]
  },
  {
   "cell_type": "code",
   "execution_count": 126,
   "metadata": {},
   "outputs": [
    {
     "data": {
      "text/plain": [
       "[<selenium.webdriver.remote.webelement.WebElement (session=\"3772248fba3b9f7017ad6bc3921ef681\", element=\"99ae5ed0-446f-4796-a46d-d1f8e1837ea9\")>,\n",
       " <selenium.webdriver.remote.webelement.WebElement (session=\"3772248fba3b9f7017ad6bc3921ef681\", element=\"f25e48df-ea65-4435-b7d3-305ac9e64297\")>,\n",
       " <selenium.webdriver.remote.webelement.WebElement (session=\"3772248fba3b9f7017ad6bc3921ef681\", element=\"236e972e-1914-41c6-812a-04daf116eac9\")>,\n",
       " <selenium.webdriver.remote.webelement.WebElement (session=\"3772248fba3b9f7017ad6bc3921ef681\", element=\"6cfea79f-acc6-4a60-81ad-0e09fe0a51c2\")>,\n",
       " <selenium.webdriver.remote.webelement.WebElement (session=\"3772248fba3b9f7017ad6bc3921ef681\", element=\"c2f66938-53e4-441b-9284-d197f68ec316\")>,\n",
       " <selenium.webdriver.remote.webelement.WebElement (session=\"3772248fba3b9f7017ad6bc3921ef681\", element=\"facec398-8612-4d30-9525-a91db0e66b59\")>,\n",
       " <selenium.webdriver.remote.webelement.WebElement (session=\"3772248fba3b9f7017ad6bc3921ef681\", element=\"3cda8920-0fbc-439c-b3b0-0a3bb26ec41f\")>,\n",
       " <selenium.webdriver.remote.webelement.WebElement (session=\"3772248fba3b9f7017ad6bc3921ef681\", element=\"611a75e8-2abc-44c6-92ed-a7709c1d2f50\")>,\n",
       " <selenium.webdriver.remote.webelement.WebElement (session=\"3772248fba3b9f7017ad6bc3921ef681\", element=\"55f80308-7be3-4cd0-87a6-cfb541b028c3\")>,\n",
       " <selenium.webdriver.remote.webelement.WebElement (session=\"3772248fba3b9f7017ad6bc3921ef681\", element=\"e8452ed1-f7be-4aae-a552-e33ea579bf0c\")>,\n",
       " <selenium.webdriver.remote.webelement.WebElement (session=\"3772248fba3b9f7017ad6bc3921ef681\", element=\"e8be9cb7-dac9-43d6-96d6-1ecf7377d494\")>,\n",
       " <selenium.webdriver.remote.webelement.WebElement (session=\"3772248fba3b9f7017ad6bc3921ef681\", element=\"6491e3bf-d468-44db-8626-49575128e0a5\")>,\n",
       " <selenium.webdriver.remote.webelement.WebElement (session=\"3772248fba3b9f7017ad6bc3921ef681\", element=\"b9e3ae0d-4349-48c5-94b0-10005f358d15\")>,\n",
       " <selenium.webdriver.remote.webelement.WebElement (session=\"3772248fba3b9f7017ad6bc3921ef681\", element=\"1f0816d4-0ed2-4670-94bc-8dfc136d2074\")>,\n",
       " <selenium.webdriver.remote.webelement.WebElement (session=\"3772248fba3b9f7017ad6bc3921ef681\", element=\"25c6d44c-c6ac-4daf-bde8-0a5c6297e618\")>]"
      ]
     },
     "execution_count": 126,
     "metadata": {},
     "output_type": "execute_result"
    }
   ],
   "source": [
    "driver.find_elements_by_css_selector('div.rList > ul > li.false')"
   ]
  },
  {
   "cell_type": "code",
   "execution_count": 18,
=======
   "execution_count": null,
>>>>>>> 662adc44be49c1bb66c1277b14fcf39455533d12
   "metadata": {},
   "outputs": [],
   "source": [
    "driver.quit()"
   ]
  },
  {
   "cell_type": "code",
   "execution_count": 4,
   "metadata": {},
   "outputs": [],
   "source": [
    "class Siksin():\n",
    "    def __init__(self, file = None):\n",
    "        if not file:\n",
    "            _id = input(\"input id(root) : \")\n",
    "            _pw = input(\"input pw       : \")\n",
    "            _db = input(\"databases      : \")\n",
    "            connect_info = (\"localhost\", 3306, _id, _pw, _db)\n",
    "        else:\n",
    "            with open(os.path.join(sys.path[0], file), \"r\") as f:\n",
    "                connect_info = list(map(lambda x: x.strip(), f.read().split(\",\")))\n",
    "        self.controller = MysqlController(*connect_info)\n",
    "        self.driver = webdriver.Chrome(executable_path = chromedriver_path, options = options)\n",
    "        # 기본 설정\n",
    "        self.one = ''\n",
    "        self.one_id = ''\n",
    "        self.one_url = ''\n",
    "        self.one_name = ''\n",
    "\n",
    "        # 주소지 받아오기\n",
<<<<<<< HEAD
    "        self.controller.curs.execute('SELECT DISTINCT CONCAT(sido, \" \",dong) as adr FROM Address;')\n",
=======
    "        self.controller.curs.execute('SELECT DISTINCT CONCAT(sigungu, \" \",dong) as adr FROM Address;')\n",
>>>>>>> 662adc44be49c1bb66c1277b14fcf39455533d12
    "        self.ADR = [f[0].replace(\"세종특별자치시 세종특별자치시\", \"세종특별자치시\") \n",
    "                    for f in self.controller.curs.fetchall() \n",
    "                    if (f[0] != None) and (f[0] != \"세종특별자치시 (알수없음)\")]\n",
    "\n",
    "\n",
    "    def get_all_rtr(self, address : str):\n",
<<<<<<< HEAD
    "        # 위치로 페이지 들어가기\n",
=======
    "        # 페이지 들어가기\n",
>>>>>>> 662adc44be49c1bb66c1277b14fcf39455533d12
    "        url = f'https://www.siksinhot.com/search?keywords={address}'\n",
    "        self.driver.get(url)\n",
    "        # 핫플레이스 태그 없으면 통과\n",
    "        if '핫플레이스' not in self.driver.find_element_by_css_selector('div.area_recommand_tag').text:\n",
    "            return -1\n",
    "        # 더보기 클릭\n",
    "        while True:\n",
    "            try:\n",
    "                # self.driver.execute_script(\"window.scrollTo(0, document.body.scrollHeight)\")\n",
    "                self.driver.find_element_by_css_selector('a.btn_sMore').click()\n",
    "                time.sleep(1)\n",
    "            except:\n",
    "                break\n",
    "\n",
    "        # 더보기 한 상태로 식당 리스트 가져오기\n",
    "        res_list = [res.find_element_by_css_selector('a').get_attribute('href') \n",
    "                    for res in self.driver.find_elements_by_css_selector('#schMove1 > div.listTy1 > ul > li')] \n",
    "        return res_list\n",
    "\n",
    "    \n",
    "    def get_one_info(self, one):\n",
<<<<<<< HEAD
    "        # self.driver.switch_to.window(self.driver.window_handles[0])\n",
    "        self.one_url = one.find_element_by_css_selector(\"a\").get_attribute('href')\n",
=======
    "        self.driver.get(one)\n",
    "        self.one_url = one\n",
>>>>>>> 662adc44be49c1bb66c1277b14fcf39455533d12
    "        self.one_id = re.findall('/P/([0-9]+)', self.one_url)[0]\n",
    "\n",
    "        # 중복 체크\n",
    "        self.controller.curs.execute(f\"\"\"SELECT count(*) FROM siksin_restaurants\n",
    "                                        WHERE rid = '{self.one_id}' \n",
    "                                        AND parking is not NULL;\"\"\")\n",
    "                                        \n",
    "        if self.controller.curs.fetchone()[0] >= 1: return\n",
    "        \n",
    "        # 바로 driver로 열기\n",
    "        self.driver.get(self.one_url)\n",
    "\n",
    "        # 식당 정보 제대로 뜰 때까지\n",
    "        while True:\n",
    "            try:\n",
    "                self.one = self.driver.find_element_by_css_selector('div.store_name_score')\n",
    "                break\n",
    "            except:\n",
    "                time.sleep(1.5)\n",
    "                self.driver.refresh()\n",
    "\n",
    "        # 주차 없을 수 있음\n",
<<<<<<< HEAD
    "        try: one_info = re.findall('(.*)([0-9][.][0-9]|평가중).*(주차|발렛)', self.one.find_element_by_css_selector('h3').text)\n",
    "        except: one_info = re.findall('(.*)([0-9][.][0-9]|평가중)', self.one.find_element_by_css_selector('h3').text)\n",
    "\n",
    "        # 이름\n",
    "        try: one_name = one_info[0]\n",
    "        except: one_name = \"\"\n",
=======
    "        try: one_info = re.findall('(.*)([0-9][.][0-9]|평가중).*(주차|발렛)?', self.one.find_element_by_css_selector('h3').text)[0]\n",
    "        except: one_info = re.findall('(.*)([0-9][.][0-9]|평가중)', self.one.find_element_by_css_selector('h3').text)[0]\n",
    "\n",
    "        # 이름\n",
    "        try: self.one_name = one_info[0]\n",
    "        except: self.one_name = \"\"\n",
>>>>>>> 662adc44be49c1bb66c1277b14fcf39455533d12
    "        \n",
    "        # 사용자 평점\n",
    "        try: one_star = float(one_info[1])\n",
    "        except: one_star = 0.0\n",
    "\n",
    "        # 업종 분류 전체\n",
    "        try: one_category = self.driver.find_element_by_css_selector('#contents > div > div > div.content > div.sec_left > div > div:nth-child(1) > div:nth-child(1) > p').text.split(\">\")\n",
    "        except: one_category = ''\n",
    "        \n",
    "        # 주차 여부\n",
    "        try: one_parking = int(bool(one_info[2]))\n",
    "        except: one_parking = 0\n",
    "        \n",
    "        # 주소\n",
    "        try: \n",
    "            one_adr = self.driver.find_element_by_css_selector('a.txt_adr')\n",
    "            one_road = one_adr.find_element_by_xpath(\"../span\").text.replace(\"(지번) \", \"\")\n",
    "        except: \n",
    "            one_adr = ''\n",
    "            one_road = ''\n",
    "        \n",
    "        # 즐겨찾기, 조회수\n",
    "        try:\n",
    "            one_fv = [int(x.text) for x in self.one.find_elements_by_css_selector(\"ul > li\")\n",
    "                        if x.text != '']\n",
    "        except: one_fv = [0] * 4\n",
    "\n",
<<<<<<< HEAD
=======
    "        # 전화\n",
    "        try: one_phone = self.driver.find_element_by_css_selector('div.p_tel p').text\n",
    "        except: one_phone = \"\"\n",
    "\n",
>>>>>>> 662adc44be49c1bb66c1277b14fcf39455533d12
    "        # 식당 정보 입력\n",
    "        # 업데이트\n",
    "        self.controller.curs.execute(f\"\"\"SELECT count(*) FROM siksin_restaurants\n",
    "                                        WHERE rid = '{self.one_id}';\"\"\")\n",
    "        if self.controller.curs.fetchone()[0] >= 1: return\n",
    "        else:\n",
    "            self.controller.insert('siksin_restaurants', \n",
    "            {\n",
    "                'updated_at': datetime.datetime.now().strftime('%Y-%m-%d %H:%M:%S'),\n",
    "                'rname': one_name,\n",
    "                'rid': self.one_id, \n",
    "                'main_category': one_category[0].strip(),\n",
    "                'sub_category' : one_category[1].strip(),\n",
    "                'star' : one_star,\n",
    "                'favorite' : one_fv[1],\n",
    "                'address' : one_adr.text,\n",
    "                'road_address' : one_road,\n",
<<<<<<< HEAD
    "                'phone' : self.driver.find_element_by_css_selector('div.p_tel p').text,\n",
=======
    "                'phone' : one_phone,\n",
>>>>>>> 662adc44be49c1bb66c1277b14fcf39455533d12
    "                'parking' : one_parking,\n",
    "                'view' : one_fv[2]\n",
    "            })\n",
    "\n",
    "    \n",
<<<<<<< HEAD
    "    def get_one_menus(self):\n",
    "        # 안 열려 있으면 열기 \n",
    "        # if len(self.driver.window_handles) == 1: self.one_url.click()\n",
    "        # self.driver.switch_to.window(self.driver.window_handles[1])\n",
    "        # 메뉴 더보기\n",
    "        # try:\n",
    "            # self.driver.find_element_by_css_selector('#div_detail div.menu-info a.more-btn').click()\n",
    "        # except:\n",
    "            # pass\n",
    "        \n",
=======
    "    def get_one_menus(self):        \n",
>>>>>>> 662adc44be49c1bb66c1277b14fcf39455533d12
    "        menu = [m.text.replace(\"'\", '\"').split(\"\\n\") for m in self.driver.find_elements_by_css_selector('ul.menu_ul > li') if m.text != '']\n",
    "        \n",
    "        for m in menu:\n",
    "            # 중복 체크\n",
    "            self.controller.curs.execute(f\"\"\"SELECT count(*) \n",
    "                                    FROM siksin_menu \n",
    "                                    WHERE rid = '{self.one_id}'\n",
    "                                    AND menu = '{m[0]}';\"\"\")\n",
    "            if self.controller.curs.fetchone()[0] >= 1: continue\n",
    "            \n",
    "            self.controller.insert('siksin_menu', line = {\n",
    "                'updated_at': datetime.datetime.now().strftime('%Y-%m-%d %H:%M:%S'),\n",
    "                'rname': self.one_name,\n",
    "                'rid': self.one_id,\n",
    "                'menu' : m[0],\n",
    "                'price' : m[1]\n",
    "            })\n",
    "\n",
    "    \n",
    "    def get_one_rvs(self):\n",
    "        # 안 열려 있으면 열기 \n",
    "        # if len(self.driver.window_handles) == 1: self.one_url.click()\n",
    "        # self.driver.switch_to.window(self.driver.window_handles[1])\n",
    "        # 더보기\n",
    "        while True:\n",
    "            try:\n",
    "                self.driver.find_element_by_css_selector('div.siksin_review a.btn_sMore').click()\n",
    "                time.sleep(1.2)\n",
    "            except: break\n",
    "        \n",
    "        # 리뷰 크롤링\n",
    "        for one in self.driver.find_elements_by_css_selector('div.rList > ul > li.false'):\n",
    "\n",
    "            # 리뷰어 아이디, 없을 수도 있음\n",
    "            try: reviewer = one.find_element_by_css_selector('div.name_data').text\n",
    "            except: reviewer = \"\"\n",
    "            \n",
    "            try: star = float(one.find_element_by_css_selector(\"div.newStarBox\").text)\n",
    "            except: star = 0.0\n",
    "            \n",
    "            try: review = one.find_element_by_css_selector(\"div.score_story p\").text.replace(\"'\", '\"')\n",
    "            except: review = \"\"\n",
    "\n",
    "            try: heart = int(re.findall('[0-9]+', one.find_element_by_css_selector(\"a.btn_like\"))[0])\n",
    "            except: heart = 0\n",
    "\n",
    "            # 리뷰 중복체크\n",
    "            self.controller.curs.execute(f\"\"\"SELECT count(*) \n",
    "                                    FROM siksin_reviews \n",
    "                                    WHERE rid = '{self.one_id}' AND \n",
    "                                            review = '{review}';\"\"\")\n",
    "            if self.controller.curs.fetchone()[0] >= 1: continue\n",
    "\n",
    "            # table에 입력\n",
    "            self.controller.insert('siksin_reviews', line = {\n",
    "                'updated_at': datetime.datetime.now().strftime('%Y-%m-%d %H:%M:%S'),\n",
    "                'rname': self.one_name,\n",
    "                'rid': self.one_id,\n",
    "                'reviewer' : reviewer,\n",
    "                'heart' : heart,\n",
    "                'star' : star,\n",
    "                'review' : review\n",
    "            })"
   ]
  },
  {
   "cell_type": "code",
   "execution_count": 7,
   "metadata": {},
   "outputs": [
    {
     "name": "stderr",
     "output_type": "stream",
     "text": [
      "/var/folders/4_/c_rvl_fj5w95qbghxb859jg80000gn/T/ipykernel_22420/3098738084.py:12: DeprecationWarning: executable_path has been deprecated, please pass in a Service object\n",
      "  self.driver = webdriver.Chrome(executable_path = chromedriver_path, options = options)\n"
     ]
    },
    {
     "name": "stdout",
     "output_type": "stream",
     "text": [
      "*** CONNECTION INFORMATION ***\n",
      "*  host : mealgen-db-real-cluster.cluster-ch1v7vb7kdnw.ap-northeast-2.rds.amazonaws.com\n",
      "*  port : 3306\n",
      "*  db_name : mealgen\n",
      "******************************\n"
     ]
    }
   ],
   "source": [
    "siksin = Siksin(file = \"../connection.txt\")\n",
    "siksin.controller._connection_info()"
   ]
  },
  {
   "cell_type": "code",
   "execution_count": 6,
   "metadata": {},
   "outputs": [],
   "source": [
    "siksin.driver.quit()"
   ]
  },
  {
   "cell_type": "code",
   "execution_count": 5,
   "metadata": {},
   "outputs": [
    {
     "name": "stderr",
     "output_type": "stream",
     "text": [
      "  0%|          | 20/5256 [03:46<16:27:13, 11.31s/it]\n"
     ]
    },
    {
     "ename": "TypeError",
     "evalue": "can only concatenate str (not \"ProgrammingError\") to str",
     "output_type": "error",
     "traceback": [
      "\u001b[0;31m---------------------------------------------------------------------------\u001b[0m",
      "\u001b[0;31mProgrammingError\u001b[0m                          Traceback (most recent call last)",
      "\u001b[0;32m<ipython-input-5-0f693f6328b6>\u001b[0m in \u001b[0;36m<module>\u001b[0;34m\u001b[0m\n\u001b[1;32m     14\u001b[0m                 \u001b[0msiksin\u001b[0m\u001b[0;34m.\u001b[0m\u001b[0mget_one_menus\u001b[0m\u001b[0;34m(\u001b[0m\u001b[0;34m)\u001b[0m\u001b[0;34m\u001b[0m\u001b[0;34m\u001b[0m\u001b[0m\n\u001b[0;32m---> 15\u001b[0;31m                 \u001b[0msiksin\u001b[0m\u001b[0;34m.\u001b[0m\u001b[0mget_one_rvs\u001b[0m\u001b[0;34m(\u001b[0m\u001b[0;34m)\u001b[0m\u001b[0;34m\u001b[0m\u001b[0;34m\u001b[0m\u001b[0m\n\u001b[0m\u001b[1;32m     16\u001b[0m                 \u001b[0;31m# 하나 크롤링 끝!\u001b[0m\u001b[0;34m\u001b[0m\u001b[0;34m\u001b[0m\u001b[0;34m\u001b[0m\u001b[0m\n",
      "\u001b[0;32m<ipython-input-3-ad52a54410d9>\u001b[0m in \u001b[0;36mget_one_rvs\u001b[0;34m(self)\u001b[0m\n\u001b[1;32m    180\u001b[0m             \u001b[0;31m# 리뷰 중복체크\u001b[0m\u001b[0;34m\u001b[0m\u001b[0;34m\u001b[0m\u001b[0;34m\u001b[0m\u001b[0m\n\u001b[0;32m--> 181\u001b[0;31m             self.controller.curs.execute(f\"\"\"SELECT count(*) \n\u001b[0m\u001b[1;32m    182\u001b[0m                                     \u001b[0mFROM\u001b[0m \u001b[0msiksin_reviews\u001b[0m\u001b[0;34m\u001b[0m\u001b[0;34m\u001b[0m\u001b[0m\n",
      "\u001b[0;32m/opt/anaconda3/lib/python3.8/site-packages/pymysql/cursors.py\u001b[0m in \u001b[0;36mexecute\u001b[0;34m(self, query, args)\u001b[0m\n\u001b[1;32m    147\u001b[0m \u001b[0;34m\u001b[0m\u001b[0m\n\u001b[0;32m--> 148\u001b[0;31m         \u001b[0mresult\u001b[0m \u001b[0;34m=\u001b[0m \u001b[0mself\u001b[0m\u001b[0;34m.\u001b[0m\u001b[0m_query\u001b[0m\u001b[0;34m(\u001b[0m\u001b[0mquery\u001b[0m\u001b[0;34m)\u001b[0m\u001b[0;34m\u001b[0m\u001b[0;34m\u001b[0m\u001b[0m\n\u001b[0m\u001b[1;32m    149\u001b[0m         \u001b[0mself\u001b[0m\u001b[0;34m.\u001b[0m\u001b[0m_executed\u001b[0m \u001b[0;34m=\u001b[0m \u001b[0mquery\u001b[0m\u001b[0;34m\u001b[0m\u001b[0;34m\u001b[0m\u001b[0m\n",
      "\u001b[0;32m/opt/anaconda3/lib/python3.8/site-packages/pymysql/cursors.py\u001b[0m in \u001b[0;36m_query\u001b[0;34m(self, q)\u001b[0m\n\u001b[1;32m    309\u001b[0m         \u001b[0mself\u001b[0m\u001b[0;34m.\u001b[0m\u001b[0m_clear_result\u001b[0m\u001b[0;34m(\u001b[0m\u001b[0;34m)\u001b[0m\u001b[0;34m\u001b[0m\u001b[0;34m\u001b[0m\u001b[0m\n\u001b[0;32m--> 310\u001b[0;31m         \u001b[0mconn\u001b[0m\u001b[0;34m.\u001b[0m\u001b[0mquery\u001b[0m\u001b[0;34m(\u001b[0m\u001b[0mq\u001b[0m\u001b[0;34m)\u001b[0m\u001b[0;34m\u001b[0m\u001b[0;34m\u001b[0m\u001b[0m\n\u001b[0m\u001b[1;32m    311\u001b[0m         \u001b[0mself\u001b[0m\u001b[0;34m.\u001b[0m\u001b[0m_do_get_result\u001b[0m\u001b[0;34m(\u001b[0m\u001b[0;34m)\u001b[0m\u001b[0;34m\u001b[0m\u001b[0;34m\u001b[0m\u001b[0m\n",
      "\u001b[0;32m/opt/anaconda3/lib/python3.8/site-packages/pymysql/connections.py\u001b[0m in \u001b[0;36mquery\u001b[0;34m(self, sql, unbuffered)\u001b[0m\n\u001b[1;32m    547\u001b[0m         \u001b[0mself\u001b[0m\u001b[0;34m.\u001b[0m\u001b[0m_execute_command\u001b[0m\u001b[0;34m(\u001b[0m\u001b[0mCOMMAND\u001b[0m\u001b[0;34m.\u001b[0m\u001b[0mCOM_QUERY\u001b[0m\u001b[0;34m,\u001b[0m \u001b[0msql\u001b[0m\u001b[0;34m)\u001b[0m\u001b[0;34m\u001b[0m\u001b[0;34m\u001b[0m\u001b[0m\n\u001b[0;32m--> 548\u001b[0;31m         \u001b[0mself\u001b[0m\u001b[0;34m.\u001b[0m\u001b[0m_affected_rows\u001b[0m \u001b[0;34m=\u001b[0m \u001b[0mself\u001b[0m\u001b[0;34m.\u001b[0m\u001b[0m_read_query_result\u001b[0m\u001b[0;34m(\u001b[0m\u001b[0munbuffered\u001b[0m\u001b[0;34m=\u001b[0m\u001b[0munbuffered\u001b[0m\u001b[0;34m)\u001b[0m\u001b[0;34m\u001b[0m\u001b[0;34m\u001b[0m\u001b[0m\n\u001b[0m\u001b[1;32m    549\u001b[0m         \u001b[0;32mreturn\u001b[0m \u001b[0mself\u001b[0m\u001b[0;34m.\u001b[0m\u001b[0m_affected_rows\u001b[0m\u001b[0;34m\u001b[0m\u001b[0;34m\u001b[0m\u001b[0m\n",
      "\u001b[0;32m/opt/anaconda3/lib/python3.8/site-packages/pymysql/connections.py\u001b[0m in \u001b[0;36m_read_query_result\u001b[0;34m(self, unbuffered)\u001b[0m\n\u001b[1;32m    774\u001b[0m             \u001b[0mresult\u001b[0m \u001b[0;34m=\u001b[0m \u001b[0mMySQLResult\u001b[0m\u001b[0;34m(\u001b[0m\u001b[0mself\u001b[0m\u001b[0;34m)\u001b[0m\u001b[0;34m\u001b[0m\u001b[0;34m\u001b[0m\u001b[0m\n\u001b[0;32m--> 775\u001b[0;31m             \u001b[0mresult\u001b[0m\u001b[0;34m.\u001b[0m\u001b[0mread\u001b[0m\u001b[0;34m(\u001b[0m\u001b[0;34m)\u001b[0m\u001b[0;34m\u001b[0m\u001b[0;34m\u001b[0m\u001b[0m\n\u001b[0m\u001b[1;32m    776\u001b[0m         \u001b[0mself\u001b[0m\u001b[0;34m.\u001b[0m\u001b[0m_result\u001b[0m \u001b[0;34m=\u001b[0m \u001b[0mresult\u001b[0m\u001b[0;34m\u001b[0m\u001b[0;34m\u001b[0m\u001b[0m\n",
      "\u001b[0;32m/opt/anaconda3/lib/python3.8/site-packages/pymysql/connections.py\u001b[0m in \u001b[0;36mread\u001b[0;34m(self)\u001b[0m\n\u001b[1;32m   1155\u001b[0m         \u001b[0;32mtry\u001b[0m\u001b[0;34m:\u001b[0m\u001b[0;34m\u001b[0m\u001b[0;34m\u001b[0m\u001b[0m\n\u001b[0;32m-> 1156\u001b[0;31m             \u001b[0mfirst_packet\u001b[0m \u001b[0;34m=\u001b[0m \u001b[0mself\u001b[0m\u001b[0;34m.\u001b[0m\u001b[0mconnection\u001b[0m\u001b[0;34m.\u001b[0m\u001b[0m_read_packet\u001b[0m\u001b[0;34m(\u001b[0m\u001b[0;34m)\u001b[0m\u001b[0;34m\u001b[0m\u001b[0;34m\u001b[0m\u001b[0m\n\u001b[0m\u001b[1;32m   1157\u001b[0m \u001b[0;34m\u001b[0m\u001b[0m\n",
      "\u001b[0;32m/opt/anaconda3/lib/python3.8/site-packages/pymysql/connections.py\u001b[0m in \u001b[0;36m_read_packet\u001b[0;34m(self, packet_type)\u001b[0m\n\u001b[1;32m    724\u001b[0m                 \u001b[0mself\u001b[0m\u001b[0;34m.\u001b[0m\u001b[0m_result\u001b[0m\u001b[0;34m.\u001b[0m\u001b[0munbuffered_active\u001b[0m \u001b[0;34m=\u001b[0m \u001b[0;32mFalse\u001b[0m\u001b[0;34m\u001b[0m\u001b[0;34m\u001b[0m\u001b[0m\n\u001b[0;32m--> 725\u001b[0;31m             \u001b[0mpacket\u001b[0m\u001b[0;34m.\u001b[0m\u001b[0mraise_for_error\u001b[0m\u001b[0;34m(\u001b[0m\u001b[0;34m)\u001b[0m\u001b[0;34m\u001b[0m\u001b[0;34m\u001b[0m\u001b[0m\n\u001b[0m\u001b[1;32m    726\u001b[0m         \u001b[0;32mreturn\u001b[0m \u001b[0mpacket\u001b[0m\u001b[0;34m\u001b[0m\u001b[0;34m\u001b[0m\u001b[0m\n",
      "\u001b[0;32m/opt/anaconda3/lib/python3.8/site-packages/pymysql/protocol.py\u001b[0m in \u001b[0;36mraise_for_error\u001b[0;34m(self)\u001b[0m\n\u001b[1;32m    220\u001b[0m             \u001b[0mprint\u001b[0m\u001b[0;34m(\u001b[0m\u001b[0;34m\"errno =\"\u001b[0m\u001b[0;34m,\u001b[0m \u001b[0merrno\u001b[0m\u001b[0;34m)\u001b[0m\u001b[0;34m\u001b[0m\u001b[0;34m\u001b[0m\u001b[0m\n\u001b[0;32m--> 221\u001b[0;31m         \u001b[0merr\u001b[0m\u001b[0;34m.\u001b[0m\u001b[0mraise_mysql_exception\u001b[0m\u001b[0;34m(\u001b[0m\u001b[0mself\u001b[0m\u001b[0;34m.\u001b[0m\u001b[0m_data\u001b[0m\u001b[0;34m)\u001b[0m\u001b[0;34m\u001b[0m\u001b[0;34m\u001b[0m\u001b[0m\n\u001b[0m\u001b[1;32m    222\u001b[0m \u001b[0;34m\u001b[0m\u001b[0m\n",
      "\u001b[0;32m/opt/anaconda3/lib/python3.8/site-packages/pymysql/err.py\u001b[0m in \u001b[0;36mraise_mysql_exception\u001b[0;34m(data)\u001b[0m\n\u001b[1;32m    142\u001b[0m         \u001b[0merrorclass\u001b[0m \u001b[0;34m=\u001b[0m \u001b[0mInternalError\u001b[0m \u001b[0;32mif\u001b[0m \u001b[0merrno\u001b[0m \u001b[0;34m<\u001b[0m \u001b[0;36m1000\u001b[0m \u001b[0;32melse\u001b[0m \u001b[0mOperationalError\u001b[0m\u001b[0;34m\u001b[0m\u001b[0;34m\u001b[0m\u001b[0m\n\u001b[0;32m--> 143\u001b[0;31m     \u001b[0;32mraise\u001b[0m \u001b[0merrorclass\u001b[0m\u001b[0;34m(\u001b[0m\u001b[0merrno\u001b[0m\u001b[0;34m,\u001b[0m \u001b[0merrval\u001b[0m\u001b[0;34m)\u001b[0m\u001b[0;34m\u001b[0m\u001b[0;34m\u001b[0m\u001b[0m\n\u001b[0m",
      "\u001b[0;31mProgrammingError\u001b[0m: (1064, \"You have an error in your SQL syntax; check the manual that corresponds to your MySQL server version for the right syntax to use near '파닭' 맛있었었던 거 같네요'' at line 4\")",
      "\nDuring handling of the above exception, another exception occurred:\n",
      "\u001b[0;31mTypeError\u001b[0m                                 Traceback (most recent call last)",
      "\u001b[0;32m<ipython-input-5-0f693f6328b6>\u001b[0m in \u001b[0;36m<module>\u001b[0;34m\u001b[0m\n\u001b[1;32m     28\u001b[0m             \u001b[0msiksin\u001b[0m\u001b[0;34m.\u001b[0m\u001b[0mdriver\u001b[0m\u001b[0;34m.\u001b[0m\u001b[0mrefresh\u001b[0m\u001b[0;34m(\u001b[0m\u001b[0;34m)\u001b[0m\u001b[0;34m\u001b[0m\u001b[0;34m\u001b[0m\u001b[0m\n\u001b[1;32m     29\u001b[0m         \u001b[0;32mexcept\u001b[0m \u001b[0mException\u001b[0m \u001b[0;32mas\u001b[0m \u001b[0me\u001b[0m\u001b[0;34m:\u001b[0m\u001b[0;34m\u001b[0m\u001b[0;34m\u001b[0m\u001b[0m\n\u001b[0;32m---> 30\u001b[0;31m             \u001b[0mprint\u001b[0m\u001b[0;34m(\u001b[0m\u001b[0madr\u001b[0m \u001b[0;34m+\u001b[0m \u001b[0;34m\": \"\u001b[0m \u001b[0;34m+\u001b[0m \u001b[0me\u001b[0m\u001b[0;34m)\u001b[0m\u001b[0;34m\u001b[0m\u001b[0;34m\u001b[0m\u001b[0m\n\u001b[0m\u001b[1;32m     31\u001b[0m             \u001b[0;31m# i += 100\u001b[0m\u001b[0;34m\u001b[0m\u001b[0;34m\u001b[0m\u001b[0;34m\u001b[0m\u001b[0m\n\u001b[1;32m     32\u001b[0m             \u001b[0merrors\u001b[0m\u001b[0;34m.\u001b[0m\u001b[0mappend\u001b[0m\u001b[0;34m(\u001b[0m\u001b[0madr\u001b[0m\u001b[0;34m)\u001b[0m\u001b[0;34m\u001b[0m\u001b[0;34m\u001b[0m\u001b[0m\n",
      "\u001b[0;31mTypeError\u001b[0m: can only concatenate str (not \"ProgrammingError\") to str"
     ]
    }
   ],
   "source": [
    "errors = []\n",
    "with tqdm(total = len(siksin.ADR)) as tm:\n",
    "    i = 0\n",
    "    while i < len(siksin.ADR):\n",
    "        adr = siksin.ADR[i]\n",
    "        try:\n",
    "            rtr_list = siksin.get_all_rtr(adr)\n",
    "            if rtr_list == -1:\n",
    "                i += 1\n",
    "                break\n",
    "            for r in rtr_list:\n",
    "                # print(r)\n",
    "                siksin.get_one_info(r)\n",
    "                siksin.get_one_menus()\n",
    "                siksin.get_one_rvs()\n",
    "                # 하나 크롤링 끝!\n",
    "                    # siksin.driver.close()\n",
    "                i += 1\n",
    "                tm.update(1)\n",
    "        except TimeoutException as ex:\n",
    "            siksin.driver.quit()\n",
    "            print(ex)\n",
    "            siksin = Siksin(file = \"../connection.txt\")\n",
    "            print(\"******** RECONNECT ********\")    \n",
    "\n",
    "        except ElementClickInterceptedException as ec:\n",
    "            time.sleep(5)\n",
    "            siksin.driver.refresh()\n",
    "        except Exception as e:\n",
    "            print(adr + \": \" + e)\n",
    "            # i += 100\n",
    "            errors = errors.append(adr)\n",
    "            i += 1\n",
    "            siksin.driver.quit()\n",
    "            siksin = Siksin(file = \"../connection.txt\")\n",
    "            print(\"****** QUIT & RECONNECT ******\")\n",
    "pickle.dump(errors, open(\"./error_address.txt\", \"wb\"))"
   ]
  },
  {
   "cell_type": "code",
   "execution_count": 7,
   "metadata": {},
   "outputs": [
    {
     "data": {
      "text/plain": [
       "[]"
      ]
     },
     "execution_count": 7,
     "metadata": {},
     "output_type": "execute_result"
    }
   ],
   "source": [
    "errors"
   ]
  },
  {
   "cell_type": "code",
   "execution_count": 6,
   "metadata": {},
   "outputs": [],
   "source": [
    "siksin.get_one_info(rtr_list[0])"
   ]
  },
  {
   "cell_type": "code",
   "execution_count": 16,
   "metadata": {},
   "outputs": [
    {
     "data": {
      "text/plain": [
       "[('메콩타이 세종점', '3.2')]"
      ]
     },
     "execution_count": 16,
     "metadata": {},
     "output_type": "execute_result"
    }
   ],
   "source": [
    "re.findall('(.*)([0-9][.][0-9]|평가중)', siksin.driver.find_element_by_css_selector('div.store_name_score > h3').text)"
   ]
  },
  {
   "cell_type": "code",
   "execution_count": 12,
   "metadata": {},
   "outputs": [
    {
     "data": {
      "text/plain": [
       "'메콩타이 세종점3.2HOT'"
      ]
     },
     "execution_count": 12,
     "metadata": {},
     "output_type": "execute_result"
    }
   ],
   "source": [
    "siksin.driver.find_element_by_css_selector('div.store_name_score h3').text"
   ]
  },
  {
   "cell_type": "code",
   "execution_count": null,
   "metadata": {},
   "outputs": [],
   "source": []
  }
 ],
 "metadata": {
  "interpreter": {
   "hash": "40d3a090f54c6569ab1632332b64b2c03c39dcf918b08424e98f38b5ae0af88f"
  },
  "kernelspec": {
   "display_name": "Python 3.8.5 64-bit ('base': conda)",
   "language": "python",
   "name": "python3"
  },
  "language_info": {
   "codemirror_mode": {
    "name": "ipython",
    "version": 3
   },
   "file_extension": ".py",
   "mimetype": "text/x-python",
   "name": "python",
   "nbconvert_exporter": "python",
   "pygments_lexer": "ipython3",
   "version": "3.9.9"
  },
  "orig_nbformat": 4
 },
 "nbformat": 4,
 "nbformat_minor": 2
}
