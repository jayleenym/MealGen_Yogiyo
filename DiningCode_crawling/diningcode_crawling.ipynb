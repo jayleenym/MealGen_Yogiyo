{
 "cells": [
  {
   "cell_type": "code",
   "execution_count": null,
   "metadata": {},
   "outputs": [],
   "source": [
    "from selenium import webdriver\n",
    "from selenium.webdriver.common.by import By\n",
    "from selenium.webdriver.support.ui import WebDriverWait\n",
    "from selenium.webdriver.support import expected_conditions as EC\n",
    "from selenium.webdriver.common.action_chains import ActionChains\n",
    "\n",
    "from bs4 import BeautifulSoup\n",
    "from requests.compat import urlparse, urljoin\n",
    "from requests.exceptions import HTTPError\n",
    "from requests import Session\n",
    "import requests\n",
    "\n",
    "import pandas as pd\n",
    "import time\n",
    "import datetime\n",
    "from tqdm import tqdm\n",
    "import re\n",
    "import sys\n",
    "import os\n",
    "sys.path.append(os.path.dirname(os.path.abspath(os.getcwd())))\n",
    "\n",
    "# db management libraries\n",
    "import pymysql\n",
    "from controller import MysqlController"
   ]
  },
  {
   "cell_type": "code",
   "execution_count": null,
   "metadata": {},
   "outputs": [],
   "source": [
    "# 연결\n",
    "with open('../connection.txt', \"r\") as f:\n",
    "                connect_info = list(map(lambda x: x.strip(), f.read().split(\",\")))\n",
    "server = MysqlController(*connect_info)\n",
    "\n",
    "# 주소지 받아오기\n",
    "# ADR = pd.read_sql('SELECT DISTINCT CONCAT(sigungu, \" \",dong) as adr FROM Address;', server.conn)\n",
    "server.curs.execute('SELECT DISTINCT CONCAT(sigungu, \" \",dong) as adr FROM Address;')\n",
    "ADR = [f[0] for f in server.curs.fetchall()]"
   ]
  },
  {
   "cell_type": "code",
   "execution_count": null,
   "metadata": {},
   "outputs": [],
   "source": [
    "server.curs.execute(f\"SELECT count(*) FROM diningcode_restaurants WHERE diningcode_id = '{one_id}';\")\n",
    "server.curs.fetchone()[0]\n",
    "        # print('already')"
   ]
  },
  {
   "cell_type": "code",
   "execution_count": null,
   "metadata": {},
   "outputs": [],
   "source": [
    "server.conn.close()"
   ]
  },
  {
   "cell_type": "markdown",
   "metadata": {},
   "source": [
    "# 식당 리스트 - Selenium"
   ]
  },
  {
   "cell_type": "code",
   "execution_count": null,
   "metadata": {},
   "outputs": [],
   "source": [
    "options = webdriver.ChromeOptions()\n",
    "# options.add_argument(\"--headless\")\n",
    "options.add_argument('--no-sandbox')\n",
    "options.add_argument('--disable-dev-shm-usage')\n",
    "\n",
    "# Path\n",
    "chromedriver_path = '/Users/yejin/Downloads/chromedriver'\n",
    "driver = webdriver.Chrome(executable_path = chromedriver_path, options = options)"
   ]
  },
  {
   "cell_type": "code",
   "execution_count": null,
   "metadata": {},
   "outputs": [],
   "source": [
    "driver.quit()"
   ]
  },
  {
   "cell_type": "code",
   "execution_count": null,
   "metadata": {},
   "outputs": [],
   "source": [
    "# for adr in ADR.values\n",
    "adr = ADR[0]\n",
    "url = f'https://www.diningcode.com/list.php?query={adr}'\n",
    "driver.get(url)"
   ]
  },
  {
   "cell_type": "code",
   "execution_count": null,
   "metadata": {},
   "outputs": [],
   "source": [
    "while True:\n",
    "    try:\n",
    "        driver.find_element_by_css_selector('#div_list_more').click()\n",
    "        time.sleep(1)\n",
    "    except:\n",
    "        break"
   ]
  },
  {
   "cell_type": "code",
   "execution_count": null,
   "metadata": {},
   "outputs": [],
   "source": [
    "# 더보기? 10개 단위\n",
    "res_list = [res for res in driver.find_elements_by_css_selector('#div_list > li') if type(res.get_property('onmouseenter')) == dict]"
   ]
  },
  {
   "cell_type": "code",
   "execution_count": null,
   "metadata": {},
   "outputs": [],
   "source": [
    "# for res in res_list:\n",
    "res = res_list[11]\n",
    "one_url = res.find_element_by_tag_name('a')\n",
    "one_id = re.findall('rid=(.*)', one_url.get_attribute('href'))[0]"
   ]
  },
  {
   "cell_type": "markdown",
   "metadata": {},
   "source": [
    "# 식당정보, 리뷰 - Selenium (하는김에)"
   ]
  },
  {
   "cell_type": "code",
   "execution_count": null,
   "metadata": {},
   "outputs": [],
   "source": [
    "# 클릭해서 열고 활성탭 옮김\n",
    "one_url.click()\n",
    "driver.switch_to.window(driver.window_handles[1])"
   ]
  },
  {
   "cell_type": "code",
   "execution_count": null,
   "metadata": {},
   "outputs": [],
   "source": [
    "driver.switch_to.window(driver.window_handles[0])"
   ]
  },
  {
   "cell_type": "markdown",
   "metadata": {},
   "source": [
    "## DB Insert"
   ]
  },
  {
   "cell_type": "code",
   "execution_count": null,
   "metadata": {},
   "outputs": [],
   "source": [
    "# 식당 한개씩 들어가기\n",
    "for res in res_list:\n",
    "    # res = res_list[0]\n",
    "    driver.switch_to.window(driver.window_handles[0])\n",
    "    one_url = res.find_element_by_tag_name('a')\n",
    "    one_id = re.findall('rid=(.*)', one_url.get_attribute('href'))[0]\n",
    "    # 중복 체크\n",
    "    server.curs.execute(f\"SELECT count(*) FROM diningcode_restaurants WHERE diningcode_id = '{one_id}';\")\n",
    "    if server.curs.fetchone()[0] >= 1: \n",
    "\n",
    "    # 클릭해서 열고 활성탭 옮김\n",
    "    one_url.click()\n",
    "    driver.switch_to.window(driver.window_handles[1])\n",
    "\n",
    "    one_name = driver.find_element_by_css_selector('div.tit-point').text\n",
    "\n",
    "    try:\n",
    "        one_grade = float(driver.find_element_by_css_selector('div.sns-grade strong').text.replace('점', \"\"))\n",
    "    except:\n",
    "        one_grade = 0.0\n",
    "\n",
    "    try:\n",
    "        one_star = float(driver.find_element_by_css_selector('div.sns-grade span.point strong').text.replace('점', \"\"))\n",
    "    except:\n",
    "        one_star = 0.0\n",
    "\n",
    "\n",
    "    # 식당정보\n",
    "    server.insert('diningcode_restaurants', line = {\n",
    "        'updated_at': datetime.datetime.now().strftime('%Y-%m-%d %H:%M:%S'),\n",
    "        'name': one_name,\n",
    "        'diningcode_id': one_id, \n",
    "        'category': driver.find_element_by_css_selector('div.btxt').text.split('|')[1].strip(),\n",
    "        'grade' : one_grade,\n",
    "        'star' : one_star,\n",
    "        'favorite' : int(driver.find_element_by_css_selector('div.favor-pic-appra i').text),\n",
    "        'address' : driver.find_element_by_css_selector('li.locat').text,\n",
    "        'phone' : driver.find_element_by_css_selector('li.tel').text\n",
    "        # tag, char은 제외\n",
    "    })\n",
    "\n",
    "    menu = [m.text for m in driver.find_elements_by_css_selector('ul.list.Restaurant_MenuList li p.l-txt.Restaurant_MenuItem') if m.text != '']\n",
    "    price = [p.text\n",
    "                for p in driver.find_elements_by_css_selector('ul.list.Restaurant_MenuList li p.r-txt.Restaurant_MenuPrice') if p.text != '']\n",
    "\n",
    "    if len(menu) != 0:\n",
    "        for i in range(len(menu)):\n",
    "            # 중복 체크\n",
    "            server.curs.execute(f\"\"\"SELECT count(*) \n",
    "                                        FROM diningcode_menu \n",
    "                                        WHERE diningcode_id = '{one_id}'\n",
    "                                        AND menu = '{menu[i]}';\"\"\")\n",
    "            if server.curs.fetchone()[0] >= 1: break\n",
    "            \n",
    "            server.insert('diningcode_menu', line = {\n",
    "                'updated_at': datetime.datetime.now().strftime('%Y-%m-%d %H:%M:%S'),\n",
    "                'name': one_name,\n",
    "                'diningcode_id': one_id,\n",
    "                'menu' : menu[i],\n",
    "                'price' : price[i]\n",
    "            })\n",
    "\n",
    "    # 안되면 NoSuchElementException\n",
    "# 끝까지 더보기 누르고\n",
    "    while True:\n",
    "        try:\n",
    "            driver.find_element_by_css_selector('#div_more_review').click()\n",
    "            time.sleep(1)\n",
    "        except:\n",
    "            break\n",
    "\n",
    "    reviewers = [re.findall('(.*) [(](.*)[)]', pr.text)[0] for pr in driver.find_elements_by_css_selector('p.person-grade span.btxt')]\n",
    "\n",
    "    review = [r.text for r in driver.find_elements_by_css_selector('p.review_contents.btxt')]\n",
    "    date = [d.text for d in driver.find_elements_by_css_selector('span.star-date')]\n",
    "    star = [s for s in driver.find_elements_by_css_selector('i.star > i')]\n",
    "\n",
    "    if len(reviewers) != 0:\n",
    "        for i in range(len(reviewers)):\n",
    "            server.curs.execute(f\"\"\"SELECT count(*) \n",
    "                                        FROM diningcode_reviews \n",
    "                                        WHERE diningcode_id = '{one_id}' AND \n",
    "                                                review = '{review[i]}';\"\"\")\n",
    "            if server.curs.fetchone()[0] >= 1: break\n",
    "            # 리뷰\n",
    "            server.insert('diningcode_reviews', line = {\n",
    "                'updated_at': datetime.datetime.now().strftime('%Y-%m-%d %H:%M:%S'),\n",
    "                'restaurant_name': driver.find_element_by_css_selector('div.tit-point').text,\n",
    "                'diningcode_id': one_id,\n",
    "                'reviewer' : reviewers[i][0],\n",
    "                'reviewer_info' : reviewers[i][1],\n",
    "                'star' : int(re.findall('[0-9]+', star[i].get_attribute('style'))[0]) / 100 * 5 ,\n",
    "                # 'point_taste' : float(re.findall('맛([0-5][.]?[0-9]?)', point[i])[0]),\n",
    "                # 'point_price' : float(re.findall('가격([0-5][.]?[0-9]?)', point[i])[0]),\n",
    "                # 'point_service' : float(re.findall('서비스([0-5][.]?[0-9]?)', point[i])[0]),\n",
    "                'review' : review[i],\n",
    "                'date' : datetime.datetime.strptime(date[i], \"%Y년 %m월 %d일\")\n",
    "            })\n",
    "\n",
    "    # 식당 하나 끝\n",
    "    driver.close()\n"
   ]
  },
  {
   "cell_type": "code",
   "execution_count": null,
   "metadata": {},
   "outputs": [],
   "source": [
    "# menu = [m.text for m in driver.find_elements_by_css_selector('ul.list.Restaurant_MenuList li p.l-txt.Restaurant_MenuItem') if m.text != '']\n",
    "# # price = [int(re.sub('[원,]', \"\", p.text)) if re.sub('[원,]', \"\", p.text).isalnum() else p.text \n",
    "# price = [p.text\n",
    "#             for p in driver.find_elements_by_css_selector('ul.list.Restaurant_MenuList li p.r-txt.Restaurant_MenuPrice') if p.text != '']\n",
    "\n",
    "# if len(menu) != 0:\n",
    "#     for i in range(len(menu)):\n",
    "#         # 중복 체크\n",
    "#         server.curs.execute(f\"\"\"SELECT count(*) \n",
    "#                                     FROM diningcode_menu \n",
    "#                                     WHERE diningcode_id = '{one_id}'\n",
    "#                                     AND menu = '{menu[i]}';\"\"\")\n",
    "#         if server.curs.fetchone()[0] >= 1: break\n",
    "        \n",
    "#         server.insert('diningcode_menu', line = {\n",
    "#             'updated_at': datetime.datetime.now().strftime('%Y-%m-%d %H:%M:%S'),\n",
    "#             'name': one_name,\n",
    "#             'diningcode_id': one_id,\n",
    "#             'menu' : menu[i],\n",
    "#             'price' : price[i]\n",
    "#         })"
   ]
  },
  {
   "cell_type": "code",
   "execution_count": null,
   "metadata": {},
   "outputs": [],
   "source": [
    "# 안되면 NoSuchElementException\n",
    "# 끝까지 더보기 누르고\n",
    "while True:\n",
    "    try:\n",
    "        driver.find_element_by_css_selector('#div_more_review').click()\n",
    "        time.sleep(1)\n",
    "    except:\n",
    "        break"
   ]
  },
  {
   "cell_type": "code",
   "execution_count": null,
   "metadata": {},
   "outputs": [],
   "source": [
    "# reviewers = [re.findall('(.*) [(](.*)[)]', pr.text)[0] for pr in driver.find_elements_by_css_selector('p.person-grade span.btxt')]\n",
    "# # point = [s.text for s in driver.find_elements_by_css_selector('p.point-detail')]\n",
    "# review = [r.text for r in driver.find_elements_by_css_selector('p.review_contents.btxt')]\n",
    "# date = [d.text for d in driver.find_elements_by_css_selector('span.star-date')]\n",
    "# star = [s for s in driver.find_elements_by_css_selector('i.star > i')]\n",
    "\n",
    "# if len(reviewers) != 0:\n",
    "#     for i in range(len(reviewers)):\n",
    "#         server.curs.execute(f\"\"\"SELECT count(*) \n",
    "#                                     FROM diningcode_reviews \n",
    "#                                     WHERE diningcode_id = '{one_id}' AND \n",
    "#                                             review = '{review[i]}';\"\"\")\n",
    "#         if server.curs.fetchone()[0] >= 1: break\n",
    "#         # 리뷰\n",
    "#         server.insert('diningcode_reviews', line = {\n",
    "#             'updated_at': datetime.datetime.now().strftime('%Y-%m-%d %H:%M:%S'),\n",
    "#             'restaurant_name': driver.find_element_by_css_selector('div.tit-point').text,\n",
    "#             'diningcode_id': one_id,\n",
    "#             'reviewer' : reviewers[i][0],\n",
    "#             'reviewer_info' : reviewers[i][1],\n",
    "#             'star' : int(re.findall('[0-9]+', star[i].get_attribute('style'))[0]) / 100 * 5 ,\n",
    "#             # 'point_taste' : float(re.findall('맛([0-5][.]?[0-9]?)', point[i])[0]),\n",
    "#             # 'point_price' : float(re.findall('가격([0-5][.]?[0-9]?)', point[i])[0]),\n",
    "#             # 'point_service' : float(re.findall('서비스([0-5][.]?[0-9]?)', point[i])[0]),\n",
    "#             'review' : review[i],\n",
    "#             'date' : datetime.datetime.strptime(date[i], \"%Y년 %m월 %d일\")\n",
    "#         })\n",
    "\n",
    "# # 식당 하나 끝\n",
    "# driver.close()\n",
    "# # "
   ]
  },
  {
   "cell_type": "code",
   "execution_count": null,
   "metadata": {},
   "outputs": [],
   "source": []
  }
 ],
 "metadata": {
  "interpreter": {
   "hash": "40d3a090f54c6569ab1632332b64b2c03c39dcf918b08424e98f38b5ae0af88f"
  },
  "kernelspec": {
   "display_name": "Python 3.8.5 64-bit ('base': conda)",
   "language": "python",
   "name": "python3"
  },
  "language_info": {
   "codemirror_mode": {
    "name": "ipython",
    "version": 3
   },
   "file_extension": ".py",
   "mimetype": "text/x-python",
   "name": "python",
   "nbconvert_exporter": "python",
   "pygments_lexer": "ipython3",
   "version": "3.8.5"
  },
  "orig_nbformat": 4
 },
 "nbformat": 4,
 "nbformat_minor": 2
}
